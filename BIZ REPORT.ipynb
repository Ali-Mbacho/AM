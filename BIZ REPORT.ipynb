{
 "cells": [
  {
   "cell_type": "code",
   "execution_count": 43,
   "metadata": {},
   "outputs": [],
   "source": [
    "import pandas as pd"
   ]
  },
  {
   "cell_type": "markdown",
   "metadata": {},
   "source": [
    "# AM_INM_WOODLY_"
   ]
  },
  {
   "cell_type": "raw",
   "metadata": {},
   "source": [
    "##INM_NET\n"
   ]
  },
  {
   "cell_type": "code",
   "execution_count": 13,
   "metadata": {},
   "outputs": [],
   "source": [
    "## CLIENTS CLASS\n",
    "class CustomerNames(object):\n",
    "    def __init__(self, clientname):\n",
    "        self.clientname = clientname\n",
    "        \n",
    "    def __repr(self):\n",
    "        return '{}'.format(self.clientname)"
   ]
  },
  {
   "cell_type": "code",
   "execution_count": 34,
   "metadata": {},
   "outputs": [
    {
     "name": "stdout",
     "output_type": "stream",
     "text": [
      "Commons Clients are : <__main__.CustomerNames object at 0x00000131C3DB7160>\n"
     ]
    }
   ],
   "source": [
    "##COMMONS\n",
    "Commonse = CustomerNames('Ebo') \n",
    "Commonsj = CustomerNames('Jemo')\n",
    "Commonsm = CustomerNames('Emily')\n",
    "Commonso = CustomerNames('Job')\n",
    "print('Commons Clients are :', CustomerNames('Ebo') )"
   ]
  },
  {
   "cell_type": "code",
   "execution_count": 6,
   "metadata": {},
   "outputs": [
    {
     "ename": "NameError",
     "evalue": "name 'AMhouse' is not defined",
     "output_type": "error",
     "traceback": [
      "\u001b[1;31m---------------------------------------------------------------------------\u001b[0m",
      "\u001b[1;31mNameError\u001b[0m                                 Traceback (most recent call last)",
      "\u001b[1;32m<ipython-input-6-2ed79cda2472>\u001b[0m in \u001b[0;36m<module>\u001b[1;34m\u001b[0m\n\u001b[0;32m      1\u001b[0m \u001b[1;31m##KARIUKI'S PLACE\u001b[0m\u001b[1;33m\u001b[0m\u001b[1;33m\u001b[0m\u001b[1;33m\u001b[0m\u001b[0m\n\u001b[1;32m----> 2\u001b[1;33m \u001b[0mKariuki\u001b[0m \u001b[1;33m=\u001b[0m \u001b[0mCustomerNames\u001b[0m\u001b[1;33m(\u001b[0m\u001b[0mAMhouse\u001b[0m\u001b[1;33m,\u001b[0m \u001b[0mJob\u001b[0m\u001b[1;33m)\u001b[0m\u001b[1;33m\u001b[0m\u001b[1;33m\u001b[0m\u001b[0m\n\u001b[0m\u001b[0;32m      3\u001b[0m \u001b[0mprint\u001b[0m\u001b[1;33m(\u001b[0m\u001b[0mKariuki\u001b[0m\u001b[1;33m)\u001b[0m\u001b[1;33m\u001b[0m\u001b[1;33m\u001b[0m\u001b[0m\n",
      "\u001b[1;31mNameError\u001b[0m: name 'AMhouse' is not defined"
     ]
    }
   ],
   "source": [
    "##KARIUKI'S PLACE\n",
    "Kariuki = CustomerNames(AMhouse, Job)\n",
    "print(Kariuki)"
   ]
  },
  {
   "cell_type": "code",
   "execution_count": 41,
   "metadata": {},
   "outputs": [],
   "source": [
    "users_history = {'Ebo'   : ['1.5mb', 'jan-sep'],\n",
    "                 'Emily' : ['1mb', 'jane-sep'],\n",
    "                 'Jemmo' : ['1.5mb', 'jan-sep'],\n",
    "                 'Job'   : ['1mb', 'jan-sep'] }\n",
    "\n",
    "\n",
    "\n",
    "def purchases(history, user, price):\n",
    "    if user not in history:\n",
    "        history[user] = []\n",
    "    history[user].append(price)\n",
    "    return history"
   ]
  },
  {
   "cell_type": "code",
   "execution_count": 42,
   "metadata": {},
   "outputs": [
    {
     "data": {
      "text/plain": [
       "{'Ebo': ['1.5mb', 'jan-sep', 1300],\n",
       " 'Emily': ['1mb', 'jane-sep', 1200],\n",
       " 'Jemmo': ['1.5mb', 'jan-sep', 1500],\n",
       " 'Job': ['1mb', 'jan-sep', 1000]}"
      ]
     },
     "execution_count": 42,
     "metadata": {},
     "output_type": "execute_result"
    }
   ],
   "source": [
    "## YOU CAN ADD NEW USERS HERE,  THO DOES NOT GO IN UPPPER DICT\n",
    "purchases(users_history, 'Ebo', 1300)\n",
    "purchases(users_history, 'Emily', 1200)\n",
    "purchases(users_history, 'Jemmo', 1500)\n",
    "purchases(users_history, 'Job', 1000)"
   ]
  },
  {
   "cell_type": "code",
   "execution_count": 40,
   "metadata": {},
   "outputs": [
    {
     "ename": "SyntaxError",
     "evalue": "invalid syntax (<ipython-input-40-265486826e24>, line 2)",
     "output_type": "error",
     "traceback": [
      "\u001b[1;36m  File \u001b[1;32m\"<ipython-input-40-265486826e24>\"\u001b[1;36m, line \u001b[1;32m2\u001b[0m\n\u001b[1;33m    def class (objects):\u001b[0m\n\u001b[1;37m            ^\u001b[0m\n\u001b[1;31mSyntaxError\u001b[0m\u001b[1;31m:\u001b[0m invalid syntax\n"
     ]
    }
   ],
   "source": [
    "##devices\n",
    "def class (objects):\n",
    "    def __init__(self, devices):\n",
    "        self.clientname = clientname\n",
    "        self.devices = devices\n",
    "        \n",
    "    def __repr(self):\n",
    "        return"
   ]
  },
  {
   "cell_type": "code",
   "execution_count": 46,
   "metadata": {},
   "outputs": [
    {
     "data": {
      "text/html": [
       "<div>\n",
       "<style scoped>\n",
       "    .dataframe tbody tr th:only-of-type {\n",
       "        vertical-align: middle;\n",
       "    }\n",
       "\n",
       "    .dataframe tbody tr th {\n",
       "        vertical-align: top;\n",
       "    }\n",
       "\n",
       "    .dataframe thead th {\n",
       "        text-align: right;\n",
       "    }\n",
       "</style>\n",
       "<table border=\"1\" class=\"dataframe\">\n",
       "  <thead>\n",
       "    <tr style=\"text-align: right;\">\n",
       "      <th></th>\n",
       "      <th>a</th>\n",
       "      <th>b</th>\n",
       "      <th>c</th>\n",
       "    </tr>\n",
       "  </thead>\n",
       "  <tbody>\n",
       "    <tr>\n",
       "      <th>0</th>\n",
       "      <td>1</td>\n",
       "      <td>1</td>\n",
       "      <td>2</td>\n",
       "    </tr>\n",
       "    <tr>\n",
       "      <th>1</th>\n",
       "      <td>2</td>\n",
       "      <td>2</td>\n",
       "      <td>3</td>\n",
       "    </tr>\n",
       "    <tr>\n",
       "      <th>2</th>\n",
       "      <td>3</td>\n",
       "      <td>3</td>\n",
       "      <td>4</td>\n",
       "    </tr>\n",
       "    <tr>\n",
       "      <th>3</th>\n",
       "      <td>4</td>\n",
       "      <td>4</td>\n",
       "      <td>5</td>\n",
       "    </tr>\n",
       "  </tbody>\n",
       "</table>\n",
       "</div>"
      ],
      "text/plain": [
       "   a  b  c\n",
       "0  1  1  2\n",
       "1  2  2  3\n",
       "2  3  3  4\n",
       "3  4  4  5"
      ]
     },
     "execution_count": 46,
     "metadata": {},
     "output_type": "execute_result"
    }
   ],
   "source": [
    "pd.DataFrame({'a' : [1, 2, 3, 4], 'b':[1, 2, 3, 4], 'c':[2, 3, 4, 5]})"
   ]
  },
  {
   "cell_type": "code",
   "execution_count": null,
   "metadata": {},
   "outputs": [],
   "source": [
    "##locations\n",
    "def class (objects):\n",
    "    def __init__(self, locations):\n",
    "        \n",
    "        \n",
    "    def __repr(self):\n",
    "        return"
   ]
  },
  {
   "cell_type": "code",
   "execution_count": null,
   "metadata": {},
   "outputs": [],
   "source": [
    "## bandwitrh and prices\n",
    "def class (objects):\n",
    "    def __init__(self, bandwith, prices)\n",
    "    \n",
    "    def __repr(self):\n",
    "        return"
   ]
  }
 ],
 "metadata": {
  "kernelspec": {
   "display_name": "Python 3",
   "language": "python",
   "name": "python3"
  },
  "language_info": {
   "codemirror_mode": {
    "name": "ipython",
    "version": 3
   },
   "file_extension": ".py",
   "mimetype": "text/x-python",
   "name": "python",
   "nbconvert_exporter": "python",
   "pygments_lexer": "ipython3",
   "version": "3.7.3"
  }
 },
 "nbformat": 4,
 "nbformat_minor": 2
}
