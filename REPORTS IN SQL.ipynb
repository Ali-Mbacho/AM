{
 "cells": [
  {
   "cell_type": "markdown",
   "metadata": {},
   "source": [
    "# CHAMAMOBILE REPORTS"
   ]
  },
  {
   "cell_type": "markdown",
   "metadata": {},
   "source": [
    "This file contains sql snippets"
   ]
  },
  {
   "cell_type": "markdown",
   "metadata": {},
   "source": [
    "# 1. WIP"
   ]
  },
  {
   "cell_type": "code",
   "execution_count": 2,
   "metadata": {},
   "outputs": [],
   "source": [
    "# WIP (Groups that are in the process of forming)\n",
    "# This groups are arranged from recent formed"
   ]
  },
  {
   "cell_type": "code",
   "execution_count": 10,
   "metadata": {},
   "outputs": [],
   "source": [
    "# Abbreviations\n",
    "# CG = Customer Group table\n",
    "# CS = Customer table\n",
    "# SB = Subscription table"
   ]
  },
  {
   "cell_type": "raw",
   "metadata": {},
   "source": [
    "SELECT  CG.ID, CG.NAME, CG.AGENTNUMBER, CG.DATECREATED, CONCAT(CS.FIRSTNAME,' ',CS.LASTNAME) AS CHAIRMAN, CG.ENTITYSTATE AS GROUP_STATUS, SB.PHONENUMBER, COUNT(SB.CUSTOMER) AS NUMBER_MEMBERS\n",
    "FROM CUSTOMER CS, CUSTOMERGROUP CG, SUBSCRIPTION AS SB\n",
    "WHERE CG.CHAIRMAN_ID = CS.ID AND CG.ENTITYSTATE = 0 AND SB.CUSTOMER = CS.ID\n",
    "GROUP BY CG.ID, CG.NAME, CG.AGENTNUMBER, CG.DATECREATED, CS.FIRSTNAME, CS.LASTNAME, CG.ENTITYSTATE, SB.PHONENUMBER\n",
    "ORDER BY DATECREATED DESC"
   ]
  },
  {
   "cell_type": "code",
   "execution_count": null,
   "metadata": {},
   "outputs": [],
   "source": []
  },
  {
   "cell_type": "code",
   "execution_count": null,
   "metadata": {},
   "outputs": [],
   "source": []
  },
  {
   "cell_type": "markdown",
   "metadata": {},
   "source": [
    "#  2. TOTAL GROUPS"
   ]
  },
  {
   "cell_type": "code",
   "execution_count": 11,
   "metadata": {},
   "outputs": [],
   "source": [
    "# Total no of groups including deleted\n",
    "# This groups are arranged from recent formed"
   ]
  },
  {
   "cell_type": "code",
   "execution_count": 12,
   "metadata": {},
   "outputs": [],
   "source": [
    "# Abbreviations\n",
    "# CS = Customer table \n",
    "# CG = Customer Group table"
   ]
  },
  {
   "cell_type": "raw",
   "metadata": {},
   "source": [
    "SELECT  CG.NAME,CG.AGENTNUMBER, CG.DATECREATED, CONCAT(CS.FIRSTNAME,' ',CS.LASTNAME) AS CHAIRPERSON_NAME, CG.PERIODICSAVING, CG.ENTITYSTATE AS GROUP_STATUS\n",
    "FROM CUSTOMER CS, CUSTOMERGROUP CG\n",
    "WHERE CG.CHAIRMAN_ID = CS.ID\n",
    "ORDER BY DATECREATED DESC"
   ]
  },
  {
   "cell_type": "code",
   "execution_count": null,
   "metadata": {},
   "outputs": [],
   "source": []
  },
  {
   "cell_type": "code",
   "execution_count": null,
   "metadata": {},
   "outputs": [],
   "source": []
  },
  {
   "cell_type": "markdown",
   "metadata": {},
   "source": [
    "# 3. LOAN OFFER"
   ]
  },
  {
   "cell_type": "code",
   "execution_count": 13,
   "metadata": {},
   "outputs": [],
   "source": [
    "# Details of loan issued\n",
    "# Loans starting from recenty issued"
   ]
  },
  {
   "cell_type": "code",
   "execution_count": 14,
   "metadata": {},
   "outputs": [],
   "source": [
    "# Abbreviations\n",
    "# SB = Subscription table\n",
    "# CS = Customers table\n",
    "# LW = Loan Window table\n",
    "# CG = Customer Group table\n",
    "# LO = Loan Offer table"
   ]
  },
  {
   "cell_type": "raw",
   "metadata": {},
   "source": [
    "SELECT LO.ID, CS.FIRSTNAME, CS.LASTNAME, CS. OTHERNAME, LW.STARTDATE, LW.AMOUNT, SB.PHONENUMBER, CG.NAME, CG.AGENTNUMBER\n",
    "FROM CUSTOMER CS\n",
    "INNER JOIN SUBSCRIPTION SB\n",
    "ON CS.ID = SB.CUSTOMER\n",
    "INNER JOIN LOANWINDOW LW\n",
    "ON LW.SUBSCRIPTION_ID = SB.ID\n",
    "INNER JOIN CUSTOMERGROUP CG\n",
    "ON CG.ID = SB.CUSTOMERGROUP\n",
    "INNER JOIN LOANOFFER  LO\n",
    "ON LO.LOANWINDOW_ID = LW.ID\n",
    "ORDER BY STARTDATE DESC"
   ]
  },
  {
   "cell_type": "code",
   "execution_count": null,
   "metadata": {},
   "outputs": [],
   "source": []
  },
  {
   "cell_type": "code",
   "execution_count": null,
   "metadata": {},
   "outputs": [],
   "source": []
  },
  {
   "cell_type": "markdown",
   "metadata": {},
   "source": [
    "# 4. GROUP SUMMARY"
   ]
  },
  {
   "cell_type": "code",
   "execution_count": 18,
   "metadata": {},
   "outputs": [],
   "source": [
    "# Completed groups\n",
    "# Starting with recent group"
   ]
  },
  {
   "cell_type": "code",
   "execution_count": 17,
   "metadata": {},
   "outputs": [],
   "source": [
    "# Abbreviations\n",
    "# CG = Customer Group table\n",
    "# TN = Tenure table\n",
    "# CS = Customers table"
   ]
  },
  {
   "cell_type": "raw",
   "metadata": {},
   "source": [
    "SELECT CG.NAME AS GROUP_NAME, CG.AGENTNUMBER, CG.ENTITYSTATE AS GROUP_STATE, CONCAT(CS.FIRSTNAME,' ',CS.LASTNAME), CG.DATEACTIVE, CG.PERIODICSAVING, TN.DURATION AS GROUP_TENURE\n",
    "FROM CUSTOMERGROUP AS CG, TENURE AS TN, CUSTOMER AS CS\n",
    "WHERE CG.ID = TN.CUSTOMERGROUP AND CS.ID = SB.CUSTOMER AND CG.ID = SB.CUSTOMERGROUP\n",
    "ORDER BY DATEACTIVE DESC"
   ]
  },
  {
   "cell_type": "code",
   "execution_count": null,
   "metadata": {},
   "outputs": [],
   "source": []
  },
  {
   "cell_type": "code",
   "execution_count": null,
   "metadata": {},
   "outputs": [],
   "source": []
  },
  {
   "cell_type": "markdown",
   "metadata": {},
   "source": [
    "# 5. CUSTOMER LIST"
   ]
  },
  {
   "cell_type": "code",
   "execution_count": 20,
   "metadata": {},
   "outputs": [],
   "source": [
    "# Current customers their status and balances\n",
    "# Starting with recent customer"
   ]
  },
  {
   "cell_type": "code",
   "execution_count": 21,
   "metadata": {},
   "outputs": [],
   "source": [
    "# Abbreviations\n",
    "# CS = Customers table\n",
    "# SB = Subscription table\n",
    "# CG = Customer Group table"
   ]
  },
  {
   "cell_type": "raw",
   "metadata": {},
   "source": [
    "SELECT CG.NAME, CG.AGENTNUMBER, CONCAT(CS.FIRSTNAME,' ', CS.LASTNAME)AS CUSTOMERNAME, SB.PHONENUMBER, CS.DATECREATED\n",
    "FROM CUSTOMER AS CS, SUBSCRIPTION AS SB, CUSTOMERGROUP AS CG \n",
    "WHERE CG.ID = SB.CUSTOMERGROUP AND CS.ID = SB.CUSTOMER \n",
    "ORDER BY DATECREATED DESC"
   ]
  }
 ],
 "metadata": {
  "kernelspec": {
   "display_name": "Python 3",
   "language": "python",
   "name": "python3"
  },
  "language_info": {
   "codemirror_mode": {
    "name": "ipython",
    "version": 3
   },
   "file_extension": ".py",
   "mimetype": "text/x-python",
   "name": "python",
   "nbconvert_exporter": "python",
   "pygments_lexer": "ipython3",
   "version": "3.8.3"
  }
 },
 "nbformat": 4,
 "nbformat_minor": 4
}
